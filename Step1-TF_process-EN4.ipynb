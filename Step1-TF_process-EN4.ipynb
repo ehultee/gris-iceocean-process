{
 "cells": [
  {
   "cell_type": "markdown",
   "metadata": {},
   "source": [
    "# Ocean thermal forcing from EN4 data.\n",
    "Clean ocean TF workflow to process EN4 reanalysis.\n",
    "\n",
    "19 Mar 2025 | EHU\n",
    "- Tried ASTE, but tiled format of files made it difficult to read in as a multifile dataset.  Ask Mike for suggestions on processing this, if necessary.\n",
    "- 2 Apr: Tried ORAS5, but only had temperature data by default, and Copernicus data service was not functioning to download salinity.\n",
    "- 4 Apr: Try EN4 with g10 correction.  Vincent provides a depth-averaged TF product; we will try to make one on multiple levels.\n",
    "- 9 Apr: Add 1950-1990 data.\n",
    "- 21 Apr: Separate this notebook from general \"Reanalysis-TF\". Make only for EN4."
   ]
  },
  {
   "cell_type": "code",
   "execution_count": null,
   "metadata": {},
   "outputs": [],
   "source": [
    "import os\n",
    "import sys\n",
    "import glob\n",
    "import copy\n",
    "import csv\n",
    "import numpy as np\n",
    "import netCDF4 as nc\n",
    "import xarray as xr\n",
    "import dask\n",
    "from datetime import datetime\n",
    "\n",
    "from verjansFunctions import freezingPoint"
   ]
  },
  {
   "cell_type": "code",
   "execution_count": null,
   "metadata": {},
   "outputs": [],
   "source": [
    "### Settings for this run\n",
    "saveBoxGreenlandNC = True\n",
    "cwd                = os.getcwd()+'/'\n",
    "\n",
    "SelModel = 'Hadley'\n",
    "\n",
    "data_directory = f'/Users/eultee/Library/CloudStorage/OneDrive-NASA/Data/Ocean-reanalyses/'+SelModel\n",
    "DirSaveNC   = f'/Users/eultee/Library/CloudStorage/OneDrive-NASA/Data/gris-iceocean-outfiles/'\n",
    "\n",
    "\n",
    "### Limits of Greenland domain ###\n",
    "limN           = 86.0 ## degrees N latitude\n",
    "limS           = 57.0 ## degrees N latitude\n",
    "limE           = 4.0 ## degrees E latitude\n",
    "limW           = 274.0 ## degrees E latitude\n",
    "## CHECK: confirm that output shows up within this W-E box and not its E-W complement\n",
    "limDp          = 1200.0\n",
    "depthSubSample = 1\n",
    "\n"
   ]
  },
  {
   "cell_type": "markdown",
   "metadata": {},
   "source": [
    "### Load and trim data\n",
    "Load in from multiple files. EN4 comes with one NC file per month.  Trim to Greenland bounding box before loading."
   ]
  },
  {
   "cell_type": "code",
   "execution_count": null,
   "metadata": {},
   "outputs": [],
   "source": [
    "## load all tiles together using multifile dataset -- for EN4\n",
    "with xr.open_mfdataset(f'{data_directory}/g10/EN*.nc') as ds_temp:\n",
    "    \n",
    "    ## trim to Greenland bounding box -- only if not already done\n",
    "    include_lat = (ds_temp.lat>=limS) & (ds_temp.lat <=limN)\n",
    "    include_lon = np.logical_or(((ds_temp.lon%360)<=limE),((ds_temp.lon %360) >=limW)) \n",
    "    ## modulo 360 to account for lon going -180 to 180 or 0-360\n",
    "    \n",
    "    with dask.config.set(**{'array.slicing.split_large_chunks': True}): ## mitigate performance problem with slicing\n",
    "        gld_ds = ds_temp.where((include_lat & include_lon).compute(), drop=True)\n",
    "        ds = gld_ds.load()\n",
    "\n",
    "ds\n",
    "    "
   ]
  },
  {
   "cell_type": "markdown",
   "metadata": {},
   "source": [
    "### Compute the ocean thermal forcing\n",
    "EN4 has both temperature and salinity in the same dataset. It is expressed in Kelvin rather than Celsius.  The output of `freezingPoint` will be in Celsius, so we will need to convert to get a reasonable thermal forcing."
   ]
  },
  {
   "cell_type": "code",
   "execution_count": null,
   "metadata": {
    "tags": []
   },
   "outputs": [],
   "source": [
    "## This process for EN4\n",
    "fp = xr.apply_ufunc(freezingPoint, gld_ds.salinity, gld_ds.depth, dask='parallelized',\n",
    "                   dask_gufunc_kwargs={'allow_rechunk':True})\n",
    "fftf = gld_ds.temperature - 273.15 - fp ## convert from Kelvin to Celsius"
   ]
  },
  {
   "cell_type": "code",
   "execution_count": null,
   "metadata": {},
   "outputs": [],
   "source": [
    "## mask and apply a fill value\n",
    "tf_out = fftf.where(gld_ds.temperature<1e10) ## let xarray do its native processing with NaNs."
   ]
  },
  {
   "cell_type": "code",
   "execution_count": null,
   "metadata": {},
   "outputs": [],
   "source": [
    "tf_out.assign_attrs(standard_name='TF',\n",
    "                    long_name='Ocean thermal forcing',\n",
    "                    # fillvalue=1.1e20,\n",
    "                    latbounds=[limS, limN],\n",
    "                    lonbounds=[limW,limE])"
   ]
  },
  {
   "cell_type": "code",
   "execution_count": null,
   "metadata": {},
   "outputs": [],
   "source": [
    "now = datetime.now()\n",
    "ds_temp = tf_out.to_dataset(name='TF')\n",
    "# ds_temp.TF.attrs = tf_out.attrs\n",
    "ds_out = ds_temp.assign_attrs(title='Ocean thermal forcing for {}'.format(SelModel),\n",
    "                             summary='TF computed following Verjans code, in a bounding' + \n",
    "                              ' box around Greenland, for ISMIP7 Greenland forcing.' +\n",
    "                              ' This version for {}'.format(SelModel),\n",
    "                             institution='NASA Goddard Space Flight Center',\n",
    "                             creation_date=now.strftime('%Y-%m-%d %H:%M:%S'))\n",
    "\n",
    "ds_out"
   ]
  },
  {
   "cell_type": "code",
   "execution_count": null,
   "metadata": {},
   "outputs": [],
   "source": [
    "ds_out.info()"
   ]
  },
  {
   "cell_type": "markdown",
   "metadata": {},
   "source": [
    "### Write NetCDF out\n",
    "Write to a custom filename in the directory specified above.  Remember to rename the file as needed, e.g. for the correct date range."
   ]
  },
  {
   "cell_type": "code",
   "execution_count": null,
   "metadata": {},
   "outputs": [],
   "source": [
    "out_fn = DirSaveNC + 'tf-{}-1950_2020.nc'.format(SelModel)\n",
    "\n",
    "from dask.diagnostics import ProgressBar\n",
    "\n",
    "with ProgressBar():\n",
    "    ds_out.to_netcdf(path=out_fn)"
   ]
  },
  {
   "cell_type": "markdown",
   "metadata": {},
   "source": [
    "### Check the output"
   ]
  },
  {
   "cell_type": "code",
   "execution_count": null,
   "metadata": {},
   "outputs": [],
   "source": [
    "import cartopy  # Map projections libary\n",
    "import cartopy.crs as ccrs  # Projections list"
   ]
  },
  {
   "cell_type": "code",
   "execution_count": null,
   "metadata": {},
   "outputs": [],
   "source": [
    "f_in = out_fn\n",
    "\n",
    "ds_new = xr.open_dataset(f_in)"
   ]
  },
  {
   "cell_type": "code",
   "execution_count": null,
   "metadata": {},
   "outputs": [],
   "source": [
    "ds_new"
   ]
  },
  {
   "cell_type": "code",
   "execution_count": null,
   "metadata": {},
   "outputs": [],
   "source": [
    "tf_tavg = ds_new.TF.mean(dim='time') \n",
    "tf_tavg"
   ]
  },
  {
   "cell_type": "code",
   "execution_count": null,
   "metadata": {},
   "outputs": [],
   "source": [
    "tf_tavg.sel(depth=5.02, method='nearest').mean(skipna=True)"
   ]
  },
  {
   "cell_type": "code",
   "execution_count": null,
   "metadata": {},
   "outputs": [],
   "source": [
    "import matplotlib.pyplot as plt\n",
    "ax = plt.axes(projection=ccrs.Robinson())\n",
    "tf_tavg.sel(depth=5.02, method='nearest').plot(ax=ax, transform=ccrs.PlateCarree(), x='lon', y='lat') ## specify x and y coordinates\n",
    "ax.coastlines(); ax.gridlines();"
   ]
  },
  {
   "cell_type": "code",
   "execution_count": null,
   "metadata": {},
   "outputs": [],
   "source": [
    "tf_tavg.sel(depth=5.02, method='nearest').plot()"
   ]
  },
  {
   "cell_type": "code",
   "execution_count": null,
   "metadata": {},
   "outputs": [],
   "source": []
  }
 ],
 "metadata": {
  "kernelspec": {
   "display_name": "Python 3 (ipykernel)",
   "language": "python",
   "name": "python3"
  },
  "language_info": {
   "codemirror_mode": {
    "name": "ipython",
    "version": 3
   },
   "file_extension": ".py",
   "mimetype": "text/x-python",
   "name": "python",
   "nbconvert_exporter": "python",
   "pygments_lexer": "ipython3",
   "version": "3.13.1"
  }
 },
 "nbformat": 4,
 "nbformat_minor": 4
}
